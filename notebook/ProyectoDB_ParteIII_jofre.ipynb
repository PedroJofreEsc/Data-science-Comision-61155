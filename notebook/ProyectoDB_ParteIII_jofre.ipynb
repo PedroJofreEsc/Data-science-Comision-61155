{
 "cells": [
  {
   "cell_type": "markdown",
   "metadata": {},
   "source": [
    "# Proyecto Final\n",
    "## Data Science I: Fundamentos para la Ciencia de Datos\n",
    "### Fecha: 16-07-20204\n",
    "### Nombre archivo: `TMDB_tv_dataset_v3.csv`\n",
    "#### source: https://www.kaggle.com/datasets/asaniczka/full-tmdb-tv-shows-dataset-2023-150k-shows?resource=download\n"
   ]
  },
  {
   "cell_type": "markdown",
   "metadata": {},
   "source": []
  },
  {
   "cell_type": "markdown",
   "metadata": {},
   "source": [
    "## Objetivos\n",
    "- Elegir un método de feature selection para reducir la dimensionalidad del dataset.\n",
    "- Elegir un algoritmo de regresión o clasificación para entrenar con los datos elegidos.\n",
    "- Validar modelo a traves de la metricas basicas. \n",
    "- Generar conclusiones con base en los resultados obtenidos."
   ]
  },
  {
   "cell_type": "markdown",
   "metadata": {},
   "source": [
    "## Metadata \n",
    "El conjunto de datos proporciona información crucial para analizar las tendencias y predecir el éxito de películas y shows de televisión utilizando información de The Movie Database (TMDB). La base de datos esta compuesta por 29 variables y mas de 150000 registros, los cuales incluyen atributos interesantes de analisis como el genero, popularidad y fecha de emision, permitiendo la segmentación y análisis detallado. Esta cantidad de datos permite una comprensión profunda y detallada de las preferencias y comportamientos de la audiencia.\n",
    "\n",
    "Los análisis derivados de este dataset presentan una oportunidad valiosa para la industria del entretenimiento, permitiendo la identificación de factores que impulsan la popularidad, la evaluación de la efectividad de estrategias de lanzamiento y marketing, y la formulación de recomendaciones personalizadas para los usuarios, por mencionar algunos.\n",
    "\n",
    "Este conjunto de datos es una herramienta invaluable para investigadores y profesionales de la industria del entretenimiento, contribuyendo a la mejora de la toma de decisiones estratégicas, la personalización de la experiencia del usuario y el incremento de la satisfacción y retención de la audiencia. "
   ]
  },
  {
   "cell_type": "markdown",
   "metadata": {},
   "source": [
    "##  Variables\n",
    "id: id unico del show\n",
    " <br> name: nombre del show\n",
    " <br> number_of_seasons: numero de temporadas\n",
    " <br> number_of_episodes: numero de episodios \n",
    " <br> original_language: idioma original\n",
    " <br> vote_count: cantidad de votos, 0 indica sin informacion\n",
    " <br> vote_average: nota promedio de los votos, 0 indica sin informacion\n",
    " <br> overview: resumen\n",
    " <br> adult: boolean que indica si el show es categoria adulto\n",
    " <br> backdrop_path: url para la imagen del show\n",
    " <br> first_air_date: primera fecha de emision\n",
    " <br> last_air_date: ultima fecha de emision \n",
    " <br> homepage: url oficial del show\n",
    " <br> in_production: boolean que indica si esta en producion\n",
    " <br> original_name: nombre original \n",
    " <br> popularity: popularidad, 0 indica sin informacion\n",
    " <br> poster_path: url para la imagen del poster\n",
    " <br> type: tipo de show\n",
    " <br> status: status \n",
    " <br> tagline: linea asociada al show\n",
    " <br> genres: listado de genero\n",
    " <br> created_by: creado por\n",
    " <br> languages:listado idiomas disponibles\n",
    " <br> networks: listado de cadenas que han emitido el programa \n",
    " <br> origin_country: listado de pais/es de origen\n",
    " <br> spoken_languages: listado de idiomas hablados \n",
    " <br> production_companies: listado de compañias productoras\n",
    " <br> production_countries:listado de los paises de produccion\n",
    " <br> episode_run_time: duracion de los episodios, 0 indica no informacion"
   ]
  },
  {
   "cell_type": "markdown",
   "metadata": {},
   "source": [
    "# Carga de datos"
   ]
  },
  {
   "cell_type": "code",
   "execution_count": 2,
   "metadata": {},
   "outputs": [],
   "source": [
    "import pandas as pd\n",
    "import numpy as np\n",
    "import matplotlib.pyplot as plt\n",
    "from matplotlib.dates import MonthLocator, DateFormatter, AutoDateLocator,AutoDateFormatter,YearLocator\n",
    "import seaborn as sns\n",
    "import statsmodels.formula.api as sm"
   ]
  },
  {
   "cell_type": "code",
   "execution_count": 3,
   "metadata": {},
   "outputs": [],
   "source": [
    "tmdb=pd.read_csv(\"../data/TMDB_tv_dataset_v3.csv\")"
   ]
  },
  {
   "cell_type": "markdown",
   "metadata": {},
   "source": [
    "# Análisis exploratorio de datos (EDA)\n",
    "A continuacion se entregara un resumen de los puntos mas importantes obtenido en el EDA, si se desea ver en mayor detalle puede consultar el notebook ProyectoDS_ParteI_jofre.ipynb"
   ]
  },
  {
   "cell_type": "markdown",
   "metadata": {},
   "source": [
    "### Renomabramiento de vaiables"
   ]
  },
  {
   "cell_type": "code",
   "execution_count": 4,
   "metadata": {},
   "outputs": [],
   "source": [
    "nombres_columnas= {'id':\"id\",\n",
    "'name':\"Nombre_Serie\",\n",
    "'number_of_seasons':\"num_Temporadas\",\n",
    "'number_of_episodes':\"num_Episodios\",\n",
    "'original_language':\"Idioma_original\",\n",
    "'vote_count':\"Votos_Totales\",\n",
    "'vote_average':\"Voto_promedio\",\n",
    "'overview':\"Resumen\",\n",
    "'adult':\"Categoria_Adulto\",\n",
    "'backdrop_path':\"url_Imagen\",\n",
    "'first_air_date':\"Fecha_Inicio\",\n",
    "'last_air_date':\"Fecha_Fin\",\n",
    "'homepage':\"Pagina\",\n",
    "'in_production':\"En_Produccion\",\n",
    "'original_name':\"Nombre_Original\",\n",
    "'popularity':\"Popularidad\",\n",
    "'poster_path':\"url_Poster\",\n",
    "'type':\"Tipo_Show\",\n",
    "'status':\"Status\",\n",
    "'tagline':\"Frase\",\n",
    "'genres':\"Generos\",\n",
    "'created_by':\"Creador\",\n",
    "'languages':\"Idiomas\",\n",
    "'networks':\"Canales\",\n",
    "'origin_country':\"Pais_Origen\",\n",
    "'spoken_languages':\"Idiomas_hablados\",\n",
    "'production_companies':\"Companias_Produccion\",\n",
    "'production_countries':\"Paises_Produccion\",\n",
    "'episode_run_time':\"Duracion_episodio\"}\n",
    "\n",
    "tmdb.rename(columns=nombres_columnas,inplace=True)"
   ]
  },
  {
   "cell_type": "markdown",
   "metadata": {},
   "source": [
    "### Tratamiento de valores nulos\n",
    "- Para la columna de generos, se rellena la columna con el valor \"Sin información\"\n",
    "- Se eliminan las columnas que tienen soobre un 35% de valores nulos, que no entregan informacion relevante, como url de la imagen del poster. \n",
    "- Se eliminan las filas que no poseen valores de las fechas de inicio o final.\n",
    "- Aún con esto se posee una base con sobre 90 mil filas de información.  "
   ]
  },
  {
   "cell_type": "code",
   "execution_count": 7,
   "metadata": {},
   "outputs": [
    {
     "data": {
      "text/plain": [
       "(98775, 28)"
      ]
     },
     "execution_count": 7,
     "metadata": {},
     "output_type": "execute_result"
    }
   ],
   "source": [
    "tmdb=tmdb.dropna(subset=['Nombre_Serie'])\n",
    "tmdb['Generos']=tmdb['Generos'].fillna('sin informacion')\n",
    "tmdb=tmdb.drop(columns=['Resumen','url_Imagen','url_Poster','Frase','Pagina','Creador'])\n",
    "tmdb=tmdb.dropna(subset=['Fecha_Inicio','Fecha_Fin','Idiomas' ])\n",
    "tmdb.shape"
   ]
  },
  {
   "cell_type": "markdown",
   "metadata": {},
   "source": [
    "### Columna calculadas \n",
    "Para obtener un mejor detalle se extrae informacion temporal de las fechas, como el mes de ingreso y la estacion del año."
   ]
  },
  {
   "cell_type": "code",
   "execution_count": 5,
   "metadata": {},
   "outputs": [],
   "source": [
    "tmdb['Fecha_Inicio']= pd.to_datetime(tmdb['Fecha_Inicio'])\n",
    "tmdb['Mes']= tmdb['Fecha_Inicio'].dt.month\n",
    "tmdb['estacion']=tmdb['Mes']%4\n",
    "tmdb['estacion_n']= tmdb['estacion'].map({0:'primavera',1:'verano',2:'otoño',3:'invierno'})\n",
    "tmdb['scripted']=tmdb['Generos'].apply(lambda x: 1 if x=='Scripted' else 0)\n",
    "tmdb['anho']= tmdb['Fecha_Inicio'].dt.year"
   ]
  },
  {
   "cell_type": "markdown",
   "metadata": {},
   "source": [
    "Ademas dado que el tipo de programa esta desbalanceado a los del tipo script se crea una nueva variable que indica si el programa es del tipo scripted o no."
   ]
  },
  {
   "cell_type": "code",
   "execution_count": 6,
   "metadata": {},
   "outputs": [],
   "source": [
    "tmdb['scripted']=tmdb['Generos'].apply(lambda x: 1 if x=='Scripted' else 0)"
   ]
  },
  {
   "cell_type": "markdown",
   "metadata": {},
   "source": [
    "## "
   ]
  },
  {
   "cell_type": "code",
   "execution_count": null,
   "metadata": {},
   "outputs": [],
   "source": []
  },
  {
   "cell_type": "markdown",
   "metadata": {},
   "source": []
  }
 ],
 "metadata": {
  "kernelspec": {
   "display_name": "Python 3",
   "language": "python",
   "name": "python3"
  },
  "language_info": {
   "codemirror_mode": {
    "name": "ipython",
    "version": 3
   },
   "file_extension": ".py",
   "mimetype": "text/x-python",
   "name": "python",
   "nbconvert_exporter": "python",
   "pygments_lexer": "ipython3",
   "version": "3.12.3"
  }
 },
 "nbformat": 4,
 "nbformat_minor": 2
}
