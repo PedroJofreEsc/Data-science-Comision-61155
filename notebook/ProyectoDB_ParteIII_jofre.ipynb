{
 "cells": [
  {
   "cell_type": "markdown",
   "metadata": {},
   "source": [
    "# Proyecto Final\n",
    "## Data Science I: Fundamentos para la Ciencia de Datos\n",
    "### Fecha: 16-07-20204\n",
    "### Nombre archivo: `TMDB_tv_dataset_v3.csv`\n",
    "#### source: https://www.kaggle.com/datasets/asaniczka/full-tmdb-tv-shows-dataset-2023-150k-shows?resource=download\n"
   ]
  },
  {
   "cell_type": "markdown",
   "metadata": {},
   "source": []
  },
  {
   "cell_type": "markdown",
   "metadata": {},
   "source": [
    "## Objetivos\n",
    "- Elegir un método de feature selection para reducir la dimensionalidad del dataset.\n",
    "- Elegir un algoritmo de regresión o clasificación para entrenar con los datos elegidos.\n",
    "- Validar modelo a traves de la metricas basicas. \n",
    "- Generar conclusiones con base en los resultados obtenidos."
   ]
  },
  {
   "cell_type": "markdown",
   "metadata": {},
   "source": [
    "## Metadata \n",
    "El conjunto de datos proporciona información crucial para analizar las tendencias y predecir el éxito de películas y shows de televisión utilizando información de The Movie Database (TMDB). La base de datos esta compuesta por 29 variables y mas de 150000 registros, los cuales incluyen atributos interesantes de analisis como el genero, popularidad y fecha de emision, permitiendo la segmentación y análisis detallado. Esta cantidad de datos permite una comprensión profunda y detallada de las preferencias y comportamientos de la audiencia.\n",
    "\n",
    "Los análisis derivados de este dataset presentan una oportunidad valiosa para la industria del entretenimiento, permitiendo la identificación de factores que impulsan la popularidad, la evaluación de la efectividad de estrategias de lanzamiento y marketing, y la formulación de recomendaciones personalizadas para los usuarios, por mencionar algunos.\n",
    "\n",
    "Este conjunto de datos es una herramienta invaluable para investigadores y profesionales de la industria del entretenimiento, contribuyendo a la mejora de la toma de decisiones estratégicas, la personalización de la experiencia del usuario y el incremento de la satisfacción y retención de la audiencia. "
   ]
  },
  {
   "cell_type": "markdown",
   "metadata": {},
   "source": [
    "##  Variables\n",
    "id: id unico del show\n",
    " <br> name: nombre del show\n",
    " <br> number_of_seasons: numero de temporadas\n",
    " <br> number_of_episodes: numero de episodios \n",
    " <br> original_language: idioma original\n",
    " <br> vote_count: cantidad de votos, 0 indica sin informacion\n",
    " <br> vote_average: nota promedio de los votos, 0 indica sin informacion\n",
    " <br> overview: resumen\n",
    " <br> adult: boolean que indica si el show es categoria adulto\n",
    " <br> backdrop_path: url para la imagen del show\n",
    " <br> first_air_date: primera fecha de emision\n",
    " <br> last_air_date: ultima fecha de emision \n",
    " <br> homepage: url oficial del show\n",
    " <br> in_production: boolean que indica si esta en producion\n",
    " <br> original_name: nombre original \n",
    " <br> popularity: popularidad, 0 indica sin informacion\n",
    " <br> poster_path: url para la imagen del poster\n",
    " <br> type: tipo de show\n",
    " <br> status: status \n",
    " <br> tagline: linea asociada al show\n",
    " <br> genres: listado de genero\n",
    " <br> created_by: creado por\n",
    " <br> languages:listado idiomas disponibles\n",
    " <br> networks: listado de cadenas que han emitido el programa \n",
    " <br> origin_country: listado de pais/es de origen\n",
    " <br> spoken_languages: listado de idiomas hablados \n",
    " <br> production_companies: listado de compañias productoras\n",
    " <br> production_countries:listado de los paises de produccion\n",
    " <br> episode_run_time: duracion de los episodios, 0 indica no informacion"
   ]
  },
  {
   "cell_type": "markdown",
   "metadata": {},
   "source": [
    "# Carga de datos"
   ]
  },
  {
   "cell_type": "code",
   "execution_count": 38,
   "metadata": {},
   "outputs": [],
   "source": [
    "import pandas as pd\n",
    "import numpy as np\n",
    "import matplotlib.pyplot as plt\n",
    "from matplotlib.dates import MonthLocator, DateFormatter, AutoDateLocator,AutoDateFormatter,YearLocator\n",
    "import seaborn as sns\n",
    "import statsmodels.formula.api as sm\n",
    "from sklearn.preprocessing import StandardScaler\n"
   ]
  },
  {
   "cell_type": "code",
   "execution_count": 3,
   "metadata": {},
   "outputs": [],
   "source": [
    "tmdb=pd.read_csv(\"../data/TMDB_tv_dataset_v3.csv\")"
   ]
  },
  {
   "cell_type": "markdown",
   "metadata": {},
   "source": [
    "Normalizacion de variables numericas"
   ]
  },
  {
   "cell_type": "code",
   "execution_count": 45,
   "metadata": {},
   "outputs": [],
   "source": [
    "numeric_features =[\"num_Temporadas\",\"num_Episodios\",\"Votos_Totales\",\"Voto_promedio\",\"Popularidad\",\"Duracion_episodio\",\"Mes\",\"estacion\",\"scripted\",\"anho\",\"num_genero\",\"num_idioma\"]\n",
    "X = tmdb[numeric_features]\n",
    "y = tmdb['Popularidad']\n",
    "scaler = StandardScaler()\n",
    "X_normalized = scaler.fit_transform(X)\n",
    "df_normalized = pd.DataFrame(X_normalized, columns=numeric_features)"
   ]
  },
  {
   "cell_type": "markdown",
   "metadata": {},
   "source": [
    "# Análisis exploratorio de datos (EDA)\n",
    "A continuacion se entregara un resumen de los puntos mas importantes obtenido en el EDA, si se desea ver en mayor detalle puede consultar el notebook ProyectoDS_ParteI_jofre.ipynb"
   ]
  },
  {
   "cell_type": "markdown",
   "metadata": {},
   "source": [
    "### Renomabramiento de vaiables"
   ]
  },
  {
   "cell_type": "code",
   "execution_count": 4,
   "metadata": {},
   "outputs": [],
   "source": [
    "nombres_columnas= {'id':\"id\",\n",
    "'name':\"Nombre_Serie\",\n",
    "'number_of_seasons':\"num_Temporadas\",\n",
    "'number_of_episodes':\"num_Episodios\",\n",
    "'original_language':\"Idioma_original\",\n",
    "'vote_count':\"Votos_Totales\",\n",
    "'vote_average':\"Voto_promedio\",\n",
    "'overview':\"Resumen\",\n",
    "'adult':\"Categoria_Adulto\",\n",
    "'backdrop_path':\"url_Imagen\",\n",
    "'first_air_date':\"Fecha_Inicio\",\n",
    "'last_air_date':\"Fecha_Fin\",\n",
    "'homepage':\"Pagina\",\n",
    "'in_production':\"En_Produccion\",\n",
    "'original_name':\"Nombre_Original\",\n",
    "'popularity':\"Popularidad\",\n",
    "'poster_path':\"url_Poster\",\n",
    "'type':\"Tipo_Show\",\n",
    "'status':\"Status\",\n",
    "'tagline':\"Frase\",\n",
    "'genres':\"Generos\",\n",
    "'created_by':\"Creador\",\n",
    "'languages':\"Idiomas\",\n",
    "'networks':\"Canales\",\n",
    "'origin_country':\"Pais_Origen\",\n",
    "'spoken_languages':\"Idiomas_hablados\",\n",
    "'production_companies':\"Companias_Produccion\",\n",
    "'production_countries':\"Paises_Produccion\",\n",
    "'episode_run_time':\"Duracion_episodio\"}\n",
    "\n",
    "tmdb.rename(columns=nombres_columnas,inplace=True)"
   ]
  },
  {
   "cell_type": "markdown",
   "metadata": {},
   "source": [
    "### Tratamiento de valores nulos\n",
    "- Para la columna de generos, se rellena la columna con el valor \"Sin información\"\n",
    "- Se eliminan las columnas que tienen soobre un 35% de valores nulos, que no entregan informacion relevante, como url de la imagen del poster. \n",
    "- Se eliminan las filas que no poseen valores de las fechas de inicio o final.\n",
    "- Aún con esto se posee una base con sobre 90 mil filas de información.  "
   ]
  },
  {
   "cell_type": "code",
   "execution_count": 5,
   "metadata": {},
   "outputs": [
    {
     "data": {
      "text/plain": [
       "(98775, 22)"
      ]
     },
     "execution_count": 5,
     "metadata": {},
     "output_type": "execute_result"
    }
   ],
   "source": [
    "tmdb=tmdb.dropna(subset=['Nombre_Serie'])\n",
    "tmdb['Generos']=tmdb['Generos'].fillna('sin informacion')\n",
    "tmdb=tmdb.drop(columns=['Nombre_Serie','Resumen','url_Imagen','url_Poster','Frase','Pagina','Creador'])\n",
    "tmdb=tmdb.dropna(subset=['Fecha_Inicio','Fecha_Fin','Idiomas' ])\n",
    "tmdb.shape"
   ]
  },
  {
   "cell_type": "markdown",
   "metadata": {},
   "source": [
    "### Columna calculadas y transformaciòn de categorias\n",
    "Para obtener un mejor detalle se extrae informacion temporal de las fechas, como el mes de ingreso y la estacion del año."
   ]
  },
  {
   "cell_type": "code",
   "execution_count": 6,
   "metadata": {},
   "outputs": [],
   "source": [
    "tmdb['Fecha_Inicio']= pd.to_datetime(tmdb['Fecha_Inicio'])\n",
    "tmdb['Mes']= tmdb['Fecha_Inicio'].dt.month\n",
    "tmdb['estacion']=tmdb['Mes']%4+1\n",
    "tmdb['estacion_n']= tmdb['estacion'].map({1:'primavera',2:'verano',3:'otoño',4:'invierno'})\n",
    "tmdb['scripted']=tmdb['Generos'].apply(lambda x: 1 if x=='Scripted' else 0)\n",
    "tmdb['anho']= tmdb['Fecha_Inicio'].dt.year"
   ]
  },
  {
   "cell_type": "markdown",
   "metadata": {},
   "source": [
    "Ademas dado que el tipo de programa esta desbalanceado a los del tipo script se crea una nueva variable que indica si el programa es del tipo scripted o no."
   ]
  },
  {
   "cell_type": "code",
   "execution_count": 7,
   "metadata": {},
   "outputs": [],
   "source": [
    "tmdb['scripted']=tmdb['Generos'].apply(lambda x: 1 if x=='Scripted' else 0)"
   ]
  },
  {
   "cell_type": "markdown",
   "metadata": {},
   "source": [
    "Por ultimo se agrega una columna indicando cuantos generos utilizo el programa."
   ]
  },
  {
   "cell_type": "code",
   "execution_count": 23,
   "metadata": {},
   "outputs": [],
   "source": [
    "def contar_generos (genero):\n",
    "    if genero=='sin informacion':\n",
    "        return 0\n",
    "    else:\n",
    "        return genero.count(',')+1\n",
    "tmdb['num_genero']= tmdb['Generos'].apply(contar_generos)\n",
    "tmdb['num_idioma']=(tmdb['Idiomas'].apply(contar_generos))"
   ]
  },
  {
   "cell_type": "code",
   "execution_count": 22,
   "metadata": {},
   "outputs": [
    {
     "data": {
      "text/plain": [
       "Idiomas\n",
       "1     93795\n",
       "2      4084\n",
       "3       653\n",
       "4       142\n",
       "5        52\n",
       "6        27\n",
       "7         8\n",
       "8         7\n",
       "10        3\n",
       "9         2\n",
       "11        1\n",
       "12        1\n",
       "Name: count, dtype: int64"
      ]
     },
     "execution_count": 22,
     "metadata": {},
     "output_type": "execute_result"
    }
   ],
   "source": [
    "(tmdb['Idiomas'].apply(contar_generos)).value_counts()"
   ]
  },
  {
   "cell_type": "markdown",
   "metadata": {},
   "source": [
    "## "
   ]
  },
  {
   "cell_type": "markdown",
   "metadata": {},
   "source": [
    "## Reduccion de dimensionalidad"
   ]
  },
  {
   "cell_type": "markdown",
   "metadata": {},
   "source": [
    "Para poder utilizar tanto la reduccion de dimensionalidad, como la regresion es necesario normalizar los datos para los valores numericos."
   ]
  },
  {
   "cell_type": "code",
   "execution_count": 46,
   "metadata": {},
   "outputs": [],
   "source": [
    "numeric_features =[\"num_Temporadas\",\"num_Episodios\",\"Votos_Totales\",\"Voto_promedio\",\"Popularidad\",\"Duracion_episodio\",\"Mes\",\"estacion\",\"scripted\",\"anho\",\"num_genero\",\"num_idioma\"]\n",
    "X = tmdb[numeric_features]\n",
    "y = tmdb['Popularidad']\n",
    "scaler = StandardScaler()\n",
    "X_normalized = scaler.fit_transform(X)\n",
    "df_normalized = pd.DataFrame(X_normalized, columns=numeric_features)\n",
    "tmdb[numeric_features]=df_normalized"
   ]
  },
  {
   "cell_type": "code",
   "execution_count": 48,
   "metadata": {},
   "outputs": [
    {
     "data": {
      "text/html": [
       "<div>\n",
       "<style scoped>\n",
       "    .dataframe tbody tr th:only-of-type {\n",
       "        vertical-align: middle;\n",
       "    }\n",
       "\n",
       "    .dataframe tbody tr th {\n",
       "        vertical-align: top;\n",
       "    }\n",
       "\n",
       "    .dataframe thead th {\n",
       "        text-align: right;\n",
       "    }\n",
       "</style>\n",
       "<table border=\"1\" class=\"dataframe\">\n",
       "  <thead>\n",
       "    <tr style=\"text-align: right;\">\n",
       "      <th></th>\n",
       "      <th>num_Temporadas</th>\n",
       "      <th>num_Episodios</th>\n",
       "      <th>Votos_Totales</th>\n",
       "      <th>Voto_promedio</th>\n",
       "      <th>Categoria_Adulto</th>\n",
       "      <th>En_Produccion</th>\n",
       "      <th>Popularidad</th>\n",
       "      <th>Duracion_episodio</th>\n",
       "      <th>Mes</th>\n",
       "      <th>estacion</th>\n",
       "      <th>scripted</th>\n",
       "      <th>anho</th>\n",
       "      <th>num_genero</th>\n",
       "      <th>num_idioma</th>\n",
       "    </tr>\n",
       "  </thead>\n",
       "  <tbody>\n",
       "    <tr>\n",
       "      <th>0</th>\n",
       "      <td>1.694237</td>\n",
       "      <td>0.218726</td>\n",
       "      <td>87.729459</td>\n",
       "      <td>1.329557</td>\n",
       "      <td>False</td>\n",
       "      <td>False</td>\n",
       "      <td>19.896556</td>\n",
       "      <td>-0.572644</td>\n",
       "      <td>-0.648852</td>\n",
       "      <td>-1.386466</td>\n",
       "      <td>0.0</td>\n",
       "      <td>0.076434</td>\n",
       "      <td>1.899249</td>\n",
       "      <td>-0.198145</td>\n",
       "    </tr>\n",
       "    <tr>\n",
       "      <th>1</th>\n",
       "      <td>0.284243</td>\n",
       "      <td>0.031113</td>\n",
       "      <td>71.573326</td>\n",
       "      <td>1.279634</td>\n",
       "      <td>False</td>\n",
       "      <td>False</td>\n",
       "      <td>1.615199</td>\n",
       "      <td>0.752729</td>\n",
       "      <td>-0.366935</td>\n",
       "      <td>-0.450068</td>\n",
       "      <td>0.0</td>\n",
       "      <td>0.504048</td>\n",
       "      <td>0.801406</td>\n",
       "      <td>-0.198145</td>\n",
       "    </tr>\n",
       "    <tr>\n",
       "      <th>2</th>\n",
       "      <td>0.566242</td>\n",
       "      <td>-0.009928</td>\n",
       "      <td>64.843277</td>\n",
       "      <td>1.378670</td>\n",
       "      <td>False</td>\n",
       "      <td>True</td>\n",
       "      <td>3.269339</td>\n",
       "      <td>-0.572644</td>\n",
       "      <td>0.196898</td>\n",
       "      <td>1.422727</td>\n",
       "      <td>0.0</td>\n",
       "      <td>0.432779</td>\n",
       "      <td>1.899249</td>\n",
       "      <td>-0.198145</td>\n",
       "    </tr>\n",
       "    <tr>\n",
       "      <th>3</th>\n",
       "      <td>2.540234</td>\n",
       "      <td>0.828471</td>\n",
       "      <td>61.914200</td>\n",
       "      <td>1.242934</td>\n",
       "      <td>False</td>\n",
       "      <td>False</td>\n",
       "      <td>8.897508</td>\n",
       "      <td>0.222580</td>\n",
       "      <td>1.042648</td>\n",
       "      <td>0.486330</td>\n",
       "      <td>0.0</td>\n",
       "      <td>0.005165</td>\n",
       "      <td>1.899249</td>\n",
       "      <td>-0.198145</td>\n",
       "    </tr>\n",
       "    <tr>\n",
       "      <th>4</th>\n",
       "      <td>1.130240</td>\n",
       "      <td>0.335985</td>\n",
       "      <td>55.638179</td>\n",
       "      <td>1.341431</td>\n",
       "      <td>False</td>\n",
       "      <td>False</td>\n",
       "      <td>7.544719</td>\n",
       "      <td>0.279381</td>\n",
       "      <td>-1.494602</td>\n",
       "      <td>-0.450068</td>\n",
       "      <td>0.0</td>\n",
       "      <td>0.432779</td>\n",
       "      <td>0.801406</td>\n",
       "      <td>-0.198145</td>\n",
       "    </tr>\n",
       "  </tbody>\n",
       "</table>\n",
       "</div>"
      ],
      "text/plain": [
       "   num_Temporadas  num_Episodios  Votos_Totales  Voto_promedio  \\\n",
       "0        1.694237       0.218726      87.729459       1.329557   \n",
       "1        0.284243       0.031113      71.573326       1.279634   \n",
       "2        0.566242      -0.009928      64.843277       1.378670   \n",
       "3        2.540234       0.828471      61.914200       1.242934   \n",
       "4        1.130240       0.335985      55.638179       1.341431   \n",
       "\n",
       "   Categoria_Adulto  En_Produccion  Popularidad  Duracion_episodio       Mes  \\\n",
       "0             False          False    19.896556          -0.572644 -0.648852   \n",
       "1             False          False     1.615199           0.752729 -0.366935   \n",
       "2             False           True     3.269339          -0.572644  0.196898   \n",
       "3             False          False     8.897508           0.222580  1.042648   \n",
       "4             False          False     7.544719           0.279381 -1.494602   \n",
       "\n",
       "   estacion  scripted      anho  num_genero  num_idioma  \n",
       "0 -1.386466       0.0  0.076434    1.899249   -0.198145  \n",
       "1 -0.450068       0.0  0.504048    0.801406   -0.198145  \n",
       "2  1.422727       0.0  0.432779    1.899249   -0.198145  \n",
       "3  0.486330       0.0  0.005165    1.899249   -0.198145  \n",
       "4 -0.450068       0.0  0.432779    0.801406   -0.198145  "
      ]
     },
     "execution_count": 48,
     "metadata": {},
     "output_type": "execute_result"
    }
   ],
   "source": [
    "tmdb_featured= tmdb.drop(columns=['id','Status','Fecha_Fin','Fecha_Inicio','Idioma_original','Nombre_Original','Tipo_Show','Generos','Idiomas','Canales','Pais_Origen','Idiomas_hablados','Companias_Produccion','Paises_Produccion','estacion_n'])\n",
    "tmdb_featured.head()"
   ]
  },
  {
   "cell_type": "code",
   "execution_count": 49,
   "metadata": {},
   "outputs": [],
   "source": [
    "# Preprocesado y modelado\n",
    "from sklearn.decomposition import PCA\n",
    "from sklearn.pipeline import make_pipeline\n",
    "from sklearn.preprocessing import StandardScaler\n",
    "from sklearn.preprocessing import scale\n",
    "import statsmodels.api as sm"
   ]
  },
  {
   "cell_type": "code",
   "execution_count": 50,
   "metadata": {},
   "outputs": [
    {
     "data": {
      "text/plain": [
       "array([0.16421684, 0.12174627, 0.09835893, 0.09398646, 0.08943393,\n",
       "       0.08851217, 0.08476692, 0.08132934, 0.06866506, 0.06151631,\n",
       "       0.04746775, 0.        ])"
      ]
     },
     "execution_count": 50,
     "metadata": {},
     "output_type": "execute_result"
    }
   ],
   "source": [
    "# Entrenamiento modelo PCA con escalado de los datos\n",
    "pca_pipe = make_pipeline(StandardScaler(), PCA())\n",
    "pca_pipe.fit(df_normalized)\n",
    "modelo_pca = pca_pipe.named_steps['pca']\n",
    "modelo_pca.explained_variance_ratio_"
   ]
  },
  {
   "cell_type": "code",
   "execution_count": 24,
   "metadata": {},
   "outputs": [
    {
     "name": "stdout",
     "output_type": "stream",
     "text": [
      "                            OLS Regression Results                            \n",
      "==============================================================================\n",
      "Dep. Variable:            Popularidad   R-squared:                       0.172\n",
      "Model:                            OLS   Adj. R-squared:                  0.171\n",
      "Method:                 Least Squares   F-statistic:                     178.3\n",
      "Date:                Wed, 17 Jul 2024   Prob (F-statistic):               0.00\n",
      "Time:                        07:23:36   Log-Likelihood:            -5.2488e+05\n",
      "No. Observations:               98775   AIC:                         1.050e+06\n",
      "Df Residuals:                   98659   BIC:                         1.051e+06\n",
      "Df Model:                         115                                         \n",
      "Covariance Type:            nonrobust                                         \n",
      "==============================================================================================\n",
      "                                 coef    std err          t      P>|t|      [0.025      0.975]\n",
      "----------------------------------------------------------------------------------------------\n",
      "Intercept                    141.4211     30.074      4.702      0.000      82.477     200.365\n",
      "Idioma_original[T.af]          9.4731     16.510      0.574      0.566     -22.886      41.832\n",
      "Idioma_original[T.am]          0.6549     17.435      0.038      0.970     -33.518      34.828\n",
      "Idioma_original[T.ar]         12.6774     15.615      0.812      0.417     -17.929      43.284\n",
      "Idioma_original[T.as]        -10.0729     38.099     -0.264      0.791     -84.746      64.600\n",
      "Idioma_original[T.av]          1.4446     51.584      0.028      0.978     -99.659     102.548\n",
      "Idioma_original[T.az]         -8.2022     22.607     -0.363      0.717     -52.512      36.108\n",
      "Idioma_original[T.bg]         -3.2932     16.533     -0.199      0.842     -35.697      29.111\n",
      "Idioma_original[T.bn]         -0.9649     15.940     -0.061      0.952     -32.207      30.277\n",
      "Idioma_original[T.bs]          7.8050     21.063      0.371      0.711     -33.478      49.088\n",
      "Idioma_original[T.ca]         -0.1745     16.160     -0.011      0.991     -31.848      31.499\n",
      "Idioma_original[T.cn]          3.9199     15.598      0.251      0.802     -26.652      34.491\n",
      "Idioma_original[T.cs]         -0.6315     15.618     -0.040      0.968     -31.244      29.980\n",
      "Idioma_original[T.cy]          2.4682     18.514      0.133      0.894     -33.818      38.755\n",
      "Idioma_original[T.da]         -0.5808     15.603     -0.037      0.970     -31.162      30.000\n",
      "Idioma_original[T.de]          0.0793     15.567      0.005      0.996     -30.432      30.590\n",
      "Idioma_original[T.dv]          0.9113     51.584      0.018      0.986    -100.193     102.016\n",
      "Idioma_original[T.el]         -2.8110     15.660     -0.180      0.858     -33.504      27.882\n",
      "Idioma_original[T.en]          7.1100     15.556      0.457      0.648     -23.380      37.600\n",
      "Idioma_original[T.eo]          1.8258     51.584      0.035      0.972     -99.279     102.930\n",
      "Idioma_original[T.es]          4.9993     15.573      0.321      0.748     -25.524      35.523\n",
      "Idioma_original[T.et]         -0.8748     17.482     -0.050      0.960     -35.138      33.389\n",
      "Idioma_original[T.eu]         -1.3916     21.997     -0.063      0.950     -44.505      41.721\n",
      "Idioma_original[T.fa]         -1.5420     15.932     -0.097      0.923     -32.769      29.685\n",
      "Idioma_original[T.fi]         -0.8679     15.762     -0.055      0.956     -31.761      30.025\n",
      "Idioma_original[T.fr]          1.5594     15.567      0.100      0.920     -28.953      32.071\n",
      "Idioma_original[T.fy]          2.5176     32.378      0.078      0.938     -60.943      65.978\n",
      "Idioma_original[T.ga]          2.3222     19.401      0.120      0.905     -35.703      40.348\n",
      "Idioma_original[T.gd]          0.2746     29.099      0.009      0.992     -56.759      57.308\n",
      "Idioma_original[T.gl]          3.8586     19.602      0.197      0.844     -34.562      42.279\n",
      "Idioma_original[T.gu]          1.2310     21.060      0.058      0.953     -40.046      42.508\n",
      "Idioma_original[T.he]         -1.9950     15.747     -0.127      0.899     -32.859      28.869\n",
      "Idioma_original[T.hi]          4.3154     15.610      0.276      0.782     -26.280      34.911\n",
      "Idioma_original[T.hr]         -3.6774     16.864     -0.218      0.827     -36.731      29.376\n",
      "Idioma_original[T.hu]         -5.3457     15.859     -0.337      0.736     -36.430      25.738\n",
      "Idioma_original[T.hy]          1.1252     29.098      0.039      0.969     -55.906      58.156\n",
      "Idioma_original[T.hz]          5.5572     51.584      0.108      0.914     -95.547     106.662\n",
      "Idioma_original[T.id]         -0.7954     15.850     -0.050      0.960     -31.861      30.270\n",
      "Idioma_original[T.is]          0.3196     17.161      0.019      0.985     -33.316      33.955\n",
      "Idioma_original[T.it]         -1.0700     15.619     -0.069      0.945     -31.683      29.544\n",
      "Idioma_original[T.ja]          1.9917     15.562      0.128      0.898     -28.509      32.493\n",
      "Idioma_original[T.jv]          3.2830     32.379      0.101      0.919     -60.180      66.746\n",
      "Idioma_original[T.ka]         -7.2190     16.957     -0.426      0.670     -40.455      26.017\n",
      "Idioma_original[T.kk]          0.7120     18.208      0.039      0.969     -34.976      36.400\n",
      "Idioma_original[T.km]         -0.0714     29.097     -0.002      0.998     -57.102      56.959\n",
      "Idioma_original[T.kn]         -1.4965     19.400     -0.077      0.939     -39.519      36.526\n",
      "Idioma_original[T.ko]          1.9937     15.572      0.128      0.898     -28.526      32.514\n",
      "Idioma_original[T.ku]         -5.3997     23.330     -0.231      0.817     -51.127      40.328\n",
      "Idioma_original[T.la]          7.8679     32.383      0.243      0.808     -55.603      71.339\n",
      "Idioma_original[T.lb]          4.6769     38.100      0.123      0.902     -69.999      79.353\n",
      "Idioma_original[T.ln]          4.2972     51.624      0.083      0.934     -96.886     105.480\n",
      "Idioma_original[T.lo]          3.5792     51.584      0.069      0.945     -97.525     104.684\n",
      "Idioma_original[T.lt]          0.7082     18.631      0.038      0.970     -35.808      37.225\n",
      "Idioma_original[T.lv]          0.0269     17.582      0.002      0.999     -34.433      34.486\n",
      "Idioma_original[T.mi]         -1.3040     38.099     -0.034      0.973     -75.978      73.370\n",
      "Idioma_original[T.mk]         -6.2211     26.942     -0.231      0.817     -59.027      46.585\n",
      "Idioma_original[T.ml]         -0.3466     18.121     -0.019      0.985     -35.863      35.170\n",
      "Idioma_original[T.mn]         -5.6502     51.584     -0.110      0.913    -106.753      95.453\n",
      "Idioma_original[T.mo]         -2.2970     26.939     -0.085      0.932     -55.098      50.504\n",
      "Idioma_original[T.mr]         -1.2959     19.603     -0.066      0.947     -39.717      37.125\n",
      "Idioma_original[T.ms]          1.3554     15.727      0.086      0.931     -29.470      32.181\n",
      "Idioma_original[T.mt]          1.1158     26.940      0.041      0.967     -51.687      53.918\n",
      "Idioma_original[T.my]          4.9401     16.253      0.304      0.761     -26.916      36.796\n",
      "Idioma_original[T.nb]          1.0219     18.037      0.057      0.955     -34.331      36.375\n",
      "Idioma_original[T.ne]         -0.4080     26.940     -0.015      0.988     -53.210      52.394\n",
      "Idioma_original[T.nl]          3.4277     15.586      0.220      0.826     -27.121      33.977\n",
      "Idioma_original[T.no]          0.0918     15.636      0.006      0.995     -30.555      30.738\n",
      "Idioma_original[T.or]         -0.4115     20.689     -0.020      0.984     -40.961      40.138\n",
      "Idioma_original[T.pa]          0.4572     18.760      0.024      0.981     -36.313      37.227\n",
      "Idioma_original[T.pl]         -2.5924     15.672     -0.165      0.869     -33.310      28.125\n",
      "Idioma_original[T.ps]          3.5786     51.584      0.069      0.945     -97.525     104.682\n",
      "Idioma_original[T.pt]          3.1886     15.582      0.205      0.838     -27.352      33.729\n",
      "Idioma_original[T.rm]          4.9259     51.584      0.095      0.924     -96.178     106.030\n",
      "Idioma_original[T.ro]         -2.4306     16.486     -0.147      0.883     -34.742      29.881\n",
      "Idioma_original[T.ru]         -2.1031     15.595     -0.135      0.893     -32.669      28.463\n",
      "Idioma_original[T.se]         -6.5347     51.585     -0.127      0.899    -107.640      94.571\n",
      "Idioma_original[T.sh]         -2.5751     17.134     -0.150      0.881     -36.157      31.007\n",
      "Idioma_original[T.si]         -5.4553     26.940     -0.202      0.840     -58.257      47.347\n",
      "Idioma_original[T.sk]          4.4292     15.777      0.281      0.779     -26.493      35.351\n",
      "Idioma_original[T.sl]         -1.2723     17.637     -0.072      0.942     -35.840      33.295\n",
      "Idioma_original[T.so]         -3.5145     51.584     -0.068      0.946    -104.619      97.590\n",
      "Idioma_original[T.sq]         -4.0114     19.827     -0.202      0.840     -42.872      34.849\n",
      "Idioma_original[T.sr]         -0.4154     16.211     -0.026      0.980     -32.188      31.357\n",
      "Idioma_original[T.st]         -4.8668     51.585     -0.094      0.925    -105.973      96.239\n",
      "Idioma_original[T.sv]         -0.3316     15.625     -0.021      0.983     -30.956      30.292\n",
      "Idioma_original[T.sw]         -2.7433     51.585     -0.053      0.958    -103.849      98.362\n",
      "Idioma_original[T.ta]          0.3527     16.320      0.022      0.983     -31.635      32.340\n",
      "Idioma_original[T.te]         -0.6998     16.558     -0.042      0.966     -33.154      31.754\n",
      "Idioma_original[T.th]          2.5104     15.610      0.161      0.872     -28.085      33.106\n",
      "Idioma_original[T.tl]         19.0251     15.652      1.215      0.224     -11.653      49.704\n",
      "Idioma_original[T.tr]          5.2062     15.613      0.333      0.739     -25.396      35.808\n",
      "Idioma_original[T.uk]         -3.1425     16.424     -0.191      0.848     -35.334      29.049\n",
      "Idioma_original[T.ur]         -0.9810     15.798     -0.062      0.950     -31.944      29.982\n",
      "Idioma_original[T.uz]          1.2587     51.584      0.024      0.981     -99.845     102.363\n",
      "Idioma_original[T.vi]          0.7714     16.336      0.047      0.962     -31.246      32.789\n",
      "Idioma_original[T.xx]          0.8722     19.399      0.045      0.964     -37.149      38.894\n",
      "Idioma_original[T.za]          5.9241     51.584      0.115      0.909     -95.181     107.029\n",
      "Idioma_original[T.zh]          0.5823     15.564      0.037      0.970     -29.922      31.087\n",
      "Idioma_original[T.zu]          2.6671     22.000      0.121      0.904     -40.452      45.786\n",
      "Categoria_Adulto[T.True]      -2.0541      1.304     -1.576      0.115      -4.609       0.501\n",
      "En_Produccion[T.True]         -0.3576      1.614     -0.222      0.825      -3.521       2.805\n",
      "estacion_n[T.otoño]            0.5276      0.458      1.153      0.249      -0.369       1.425\n",
      "estacion_n[T.primavera]       -0.2916      0.471     -0.619      0.536      -1.214       0.631\n",
      "estacion_n[T.verano]           1.6051      0.444      3.612      0.000       0.734       2.476\n",
      "Status[T.Ended]               -0.2075      0.796     -0.261      0.794      -1.768       1.353\n",
      "Status[T.In Production]        0.2885      2.150      0.134      0.893      -3.925       4.502\n",
      "Status[T.Pilot]               -3.3361      3.419     -0.976      0.329     -10.038       3.366\n",
      "Status[T.Planned]             -0.5126      4.865     -0.105      0.916     -10.047       9.022\n",
      "Status[T.Returning Series]     3.2026      1.514      2.115      0.034       0.235       6.170\n",
      "num_idioma                    -0.7965      0.498     -1.601      0.109      -1.772       0.179\n",
      "Mes                            0.1603      0.046      3.466      0.001       0.070       0.251\n",
      "scripted                   -1.102e-16   1.38e-14     -0.008      0.994   -2.72e-14    2.69e-14\n",
      "Votos_Totales                  0.0411      0.001     64.555      0.000       0.040       0.042\n",
      "Voto_promedio                  0.6815      0.046     14.685      0.000       0.591       0.772\n",
      "num_Temporadas                 0.4413      0.050      8.738      0.000       0.342       0.540\n",
      "num_Episodios                  0.1002      0.001     99.149      0.000       0.098       0.102\n",
      "num_genero                     3.1322      0.186     16.817      0.000       2.767       3.497\n",
      "anho                          -0.0743      0.013     -5.819      0.000      -0.099      -0.049\n",
      "==============================================================================\n",
      "Omnibus:                   251976.648   Durbin-Watson:                   1.945\n",
      "Prob(Omnibus):                  0.000   Jarque-Bera (JB):       7052287688.679\n",
      "Skew:                          28.728   Prob(JB):                         0.00\n",
      "Kurtosis:                    1310.761   Cond. No.                     1.37e+22\n",
      "==============================================================================\n",
      "\n",
      "Notes:\n",
      "[1] Standard Errors assume that the covariance matrix of the errors is correctly specified.\n",
      "[2] The smallest eigenvalue is 2.12e-33. This might indicate that there are\n",
      "strong multicollinearity problems or that the design matrix is singular.\n"
     ]
    }
   ],
   "source": [
    "model1 = 'Popularidad~num_idioma+Idioma_original+Categoria_Adulto+En_Produccion+estacion_n+Mes+scripted+Status+Votos_Totales+Voto_promedio+num_Temporadas+num_Episodios+num_genero+anho'\n",
    "lm1   = sm.ols(formula = model1, data = tmdb).fit()\n",
    "print(lm1.summary())"
   ]
  }
 ],
 "metadata": {
  "kernelspec": {
   "display_name": "Python 3",
   "language": "python",
   "name": "python3"
  },
  "language_info": {
   "codemirror_mode": {
    "name": "ipython",
    "version": 3
   },
   "file_extension": ".py",
   "mimetype": "text/x-python",
   "name": "python",
   "nbconvert_exporter": "python",
   "pygments_lexer": "ipython3",
   "version": "3.10.6"
  }
 },
 "nbformat": 4,
 "nbformat_minor": 2
}
